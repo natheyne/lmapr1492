{
 "cells": [
  {
   "cell_type": "code",
   "execution_count": 8,
   "id": "743b73e7",
   "metadata": {},
   "outputs": [
    {
     "name": "stdout",
     "output_type": "stream",
     "text": [
      "Full Formula (Cs1 K2 Bi1)\n",
      "Reduced Formula: CsK2Bi\n",
      "abc   :   6.306640   6.306640   6.306640\n",
      "angles:  60.000000  60.000000  60.000000\n",
      "Sites (4)\n",
      "  #  SP       a     b     c    magmom\n",
      "---  ----  ----  ----  ----  --------\n",
      "  0  Cs    0     0     0           -0\n",
      "  1  K     0.75  0.75  0.75        -0\n",
      "  2  K     0.25  0.25  0.25        -0\n",
      "  3  Bi    0.5   0.5   0.5         -0\n",
      "_________ \n",
      " \n",
      "<pymatgen.electronic_structure.bandstructure.BandStructureSymmLine object at 0x7f0ab9f4fb80>\n"
     ]
    }
   ],
   "source": [
    "from pymatgen.ext.matproj import MPRester\n",
    "with MPRester(\"8dT4ZwJiqOtEkr83gIsD\") as m:\n",
    "\n",
    "    # Structure for material id\n",
    "    structure = m.get_structure_by_material_id(\"mp-867339\")\n",
    "\n",
    "    # Dos for material id\n",
    "    dos = m.get_dos_by_material_id(\"mp-867339\")\n",
    "\n",
    "    # Bandstructure for material id\n",
    "    bandstructure = m.get_bandstructure_by_material_id(\"mp-867339\")\n",
    "    \n",
    "print(structure)\n",
    "print(\"_________ \")\n",
    "print(\" \")\n",
    "print(bandstructure)"
   ]
  },
  {
   "cell_type": "code",
   "execution_count": null,
   "id": "ab83cf75",
   "metadata": {},
   "outputs": [],
   "source": []
  }
 ],
 "metadata": {
  "kernelspec": {
   "display_name": "Python 3 (ipykernel)",
   "language": "python",
   "name": "python3"
  },
  "language_info": {
   "codemirror_mode": {
    "name": "ipython",
    "version": 3
   },
   "file_extension": ".py",
   "mimetype": "text/x-python",
   "name": "python",
   "nbconvert_exporter": "python",
   "pygments_lexer": "ipython3",
   "version": "3.9.6"
  }
 },
 "nbformat": 4,
 "nbformat_minor": 5
}
