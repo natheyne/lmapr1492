{
 "cells": [
  {
   "cell_type": "code",
   "execution_count": 5,
   "id": "1775727c",
   "metadata": {},
   "outputs": [
    {
     "name": "stdout",
     "output_type": "stream",
     "text": [
      "Defaulting to user installation because normal site-packages is not writeable\n",
      "Requirement already satisfied: pymatgen in ./.local/lib/python3.9/site-packages (2022.2.10)\n",
      "Requirement already satisfied: plotly>=4.5.0 in ./.local/lib/python3.9/site-packages (from pymatgen) (5.6.0)\n",
      "Requirement already satisfied: uncertainties>=3.1.4 in ./.local/lib/python3.9/site-packages (from pymatgen) (3.1.6)\n",
      "Requirement already satisfied: ruamel.yaml>=0.15.6 in /opt/conda/lib/python3.9/site-packages (from pymatgen) (0.17.16)\n",
      "Requirement already satisfied: scipy>=1.5.0 in /opt/conda/lib/python3.9/site-packages (from pymatgen) (1.7.1)\n",
      "Requirement already satisfied: networkx>=2.2 in /opt/conda/lib/python3.9/site-packages (from pymatgen) (2.5)\n",
      "Requirement already satisfied: sympy in /opt/conda/lib/python3.9/site-packages (from pymatgen) (1.6.2)\n",
      "Requirement already satisfied: pandas in /opt/conda/lib/python3.9/site-packages (from pymatgen) (1.3.3)\n",
      "Requirement already satisfied: pybtex in ./.local/lib/python3.9/site-packages (from pymatgen) (0.24.0)\n",
      "Requirement already satisfied: matplotlib>=1.5 in /opt/conda/lib/python3.9/site-packages (from pymatgen) (3.3.4)\n",
      "Requirement already satisfied: tqdm in /opt/conda/lib/python3.9/site-packages (from pymatgen) (4.62.2)\n",
      "Requirement already satisfied: requests in /opt/conda/lib/python3.9/site-packages (from pymatgen) (2.26.0)\n",
      "Requirement already satisfied: monty>=3.0.2 in ./.local/lib/python3.9/site-packages (from pymatgen) (2022.1.19)\n",
      "Requirement already satisfied: tabulate in /opt/conda/lib/python3.9/site-packages (from pymatgen) (0.8.9)\n",
      "Requirement already satisfied: spglib>=1.9.9.44 in ./.local/lib/python3.9/site-packages (from pymatgen) (1.16.3)\n",
      "Requirement already satisfied: palettable>=3.1.1 in ./.local/lib/python3.9/site-packages (from pymatgen) (3.3.0)\n",
      "Requirement already satisfied: numpy>=1.20.1 in /opt/conda/lib/python3.9/site-packages (from pymatgen) (1.20.3)\n",
      "Requirement already satisfied: pyparsing!=2.0.4,!=2.1.2,!=2.1.6,>=2.0.3 in /opt/conda/lib/python3.9/site-packages (from matplotlib>=1.5->pymatgen) (2.4.7)\n",
      "Requirement already satisfied: cycler>=0.10 in /opt/conda/lib/python3.9/site-packages (from matplotlib>=1.5->pymatgen) (0.10.0)\n",
      "Requirement already satisfied: kiwisolver>=1.0.1 in /opt/conda/lib/python3.9/site-packages (from matplotlib>=1.5->pymatgen) (1.3.2)\n",
      "Requirement already satisfied: pillow>=6.2.0 in /opt/conda/lib/python3.9/site-packages (from matplotlib>=1.5->pymatgen) (8.2.0)\n",
      "Requirement already satisfied: python-dateutil>=2.1 in /opt/conda/lib/python3.9/site-packages (from matplotlib>=1.5->pymatgen) (2.8.2)\n",
      "Requirement already satisfied: six in /opt/conda/lib/python3.9/site-packages (from cycler>=0.10->matplotlib>=1.5->pymatgen) (1.16.0)\n",
      "Requirement already satisfied: decorator>=4.3.0 in /opt/conda/lib/python3.9/site-packages (from networkx>=2.2->pymatgen) (5.1.0)\n",
      "Requirement already satisfied: tenacity>=6.2.0 in ./.local/lib/python3.9/site-packages (from plotly>=4.5.0->pymatgen) (8.0.1)\n",
      "Requirement already satisfied: ruamel.yaml.clib>=0.1.2 in /opt/conda/lib/python3.9/site-packages (from ruamel.yaml>=0.15.6->pymatgen) (0.2.2)\n",
      "Requirement already satisfied: future in /opt/conda/lib/python3.9/site-packages (from uncertainties>=3.1.4->pymatgen) (0.18.2)\n",
      "Requirement already satisfied: pytz>=2017.3 in /opt/conda/lib/python3.9/site-packages (from pandas->pymatgen) (2021.1)\n",
      "Requirement already satisfied: latexcodec>=1.0.4 in ./.local/lib/python3.9/site-packages (from pybtex->pymatgen) (2.0.1)\n",
      "Requirement already satisfied: PyYAML>=3.01 in /opt/conda/lib/python3.9/site-packages (from pybtex->pymatgen) (5.4.1)\n",
      "Requirement already satisfied: urllib3<1.27,>=1.21.1 in /opt/conda/lib/python3.9/site-packages (from requests->pymatgen) (1.26.6)\n",
      "Requirement already satisfied: certifi>=2017.4.17 in /opt/conda/lib/python3.9/site-packages (from requests->pymatgen) (2021.5.30)\n",
      "Requirement already satisfied: idna<4,>=2.5 in /opt/conda/lib/python3.9/site-packages (from requests->pymatgen) (3.1)\n",
      "Requirement already satisfied: charset-normalizer~=2.0.0 in /opt/conda/lib/python3.9/site-packages (from requests->pymatgen) (2.0.0)\n",
      "Requirement already satisfied: mpmath>=0.19 in /opt/conda/lib/python3.9/site-packages (from sympy->pymatgen) (1.2.1)\n",
      "Note: you may need to restart the kernel to use updated packages.\n"
     ]
    }
   ],
   "source": [
    "pip install pymatgen"
   ]
  },
  {
   "cell_type": "code",
   "execution_count": 6,
   "id": "4a0b2de0",
   "metadata": {},
   "outputs": [
    {
     "name": "stdout",
     "output_type": "stream",
     "text": [
      "Full Formula (Cs1 K2 Bi1)\n",
      "Reduced Formula: CsK2Bi\n",
      "abc   :   6.306640   6.306640   6.306640\n",
      "angles:  60.000000  60.000000  60.000000\n",
      "Sites (4)\n",
      "  #  SP       a     b     c    magmom\n",
      "---  ----  ----  ----  ----  --------\n",
      "  0  Cs    0     0     0           -0\n",
      "  1  K     0.75  0.75  0.75        -0\n",
      "  2  K     0.25  0.25  0.25        -0\n",
      "  3  Bi    0.5   0.5   0.5         -0\n",
      "_________ \n",
      " \n",
      "<pymatgen.electronic_structure.bandstructure.BandStructureSymmLine object at 0x7f0cc6f4f5b0>\n"
     ]
    }
   ],
   "source": [
    "from pymatgen.ext.matproj import MPRester\n",
    "with MPRester(\"8dT4ZwJiqOtEkr83gIsD\") as m:\n",
    "\n",
    "    # Structure for material id\n",
    "    structure = m.get_structure_by_material_id(\"mp-867339\")\n",
    "\n",
    "    # Dos for material id\n",
    "    dos = m.get_dos_by_material_id(\"mp-867339\")\n",
    "\n",
    "    # Bandstructure for material id\n",
    "    bandstructure = m.get_bandstructure_by_material_id(\"mp-867339\")\n",
    "    \n",
    "print(structure)\n",
    "print(\"_________ \")\n",
    "print(\" \")\n",
    "print(bandstructure)"
   ]
  },
  {
   "cell_type": "code",
   "execution_count": null,
   "id": "e2abb963",
   "metadata": {},
   "outputs": [],
   "source": []
  }
 ],
 "metadata": {
  "kernelspec": {
   "display_name": "Python 3 (ipykernel)",
   "language": "python",
   "name": "python3"
  },
  "language_info": {
   "codemirror_mode": {
    "name": "ipython",
    "version": 3
   },
   "file_extension": ".py",
   "mimetype": "text/x-python",
   "name": "python",
   "nbconvert_exporter": "python",
   "pygments_lexer": "ipython3",
   "version": "3.9.6"
  }
 },
 "nbformat": 4,
 "nbformat_minor": 5
}
