{
 "cells": [
  {
   "cell_type": "code",
   "execution_count": 107,
   "id": "f2686c0f",
   "metadata": {},
   "outputs": [],
   "source": [
    "from pymatgen.ext.matproj import MPRester\n",
    "from pymatgen.symmetry.analyzer import SpacegroupAnalyzer\n",
    "from jupyter_jsmol.pymatgen import quick_view\n",
    "with MPRester(\"8dT4ZwJiqOtEkr83gIsD\") as m:\n",
    "\n",
    "    # Structure for material id\n",
    "    structure = m.get_structure_by_material_id(\"mp-867339\")\n",
    "    \n",
    "struct = SpacegroupAnalyzer(structure)\n",
    "struct_conv = struct.get_conventional_standard_structure()\n",
    "#récupération de la structure conventionnel qui correspond à la maille du fichier CIF symmetrized\n",
    "struct_analyze = SpacegroupAnalyzer(struct_conv)"
   ]
  },
  {
   "cell_type": "code",
   "execution_count": 108,
   "id": "398ec954",
   "metadata": {},
   "outputs": [
    {
     "data": {
      "application/vnd.jupyter.widget-view+json": {
       "model_id": "71f81035f75a4c5790851886f5ab2632",
       "version_major": 2,
       "version_minor": 0
      },
      "text/plain": [
       "JsmolView(layout=Layout(align_self='stretch', height='400px'))"
      ]
     },
     "metadata": {},
     "output_type": "display_data"
    }
   ],
   "source": [
    "view = quick_view(structure, conventional=True, supercell=[2,2,2])\n",
    "display(view)"
   ]
  },
  {
   "cell_type": "code",
   "execution_count": 109,
   "id": "5ca95d32",
   "metadata": {},
   "outputs": [
    {
     "name": "stdout",
     "output_type": "stream",
     "text": [
      "Rot:\n",
      "[[ 1.  0.  0.]\n",
      " [ 0.  1.  0.]\n",
      " [ 0.  0. -1.]]\n",
      "tau\n",
      "[0. 0. 0.]\n",
      "__________\n",
      "Rot:\n",
      "[[ 0. -1.  0.]\n",
      " [-1.  0.  0.]\n",
      " [ 0.  0. -1.]]\n",
      "tau\n",
      "[0.5 0.5 0. ]\n",
      "__________\n",
      "Rot:\n",
      "[[0. 0. 1.]\n",
      " [1. 0. 0.]\n",
      " [0. 1. 0.]]\n",
      "tau\n",
      "[0. 0. 0.]\n"
     ]
    }
   ],
   "source": [
    "# récupération des opération de symmétrie\n",
    "sym_op = struct_analyze.get_symmetry_operations()\n",
    "\n",
    "print(sym_op[5])\n",
    "print(\"__________\")\n",
    "print(sym_op[58])\n",
    "print(\"__________\")\n",
    "print(sym_op[16])\n",
    "\n",
    "#récupération de tous les sites d'atome dans la maille cristalline\n",
    "sites = struct_conv.sites \n",
    "#print(sites)"
   ]
  },
  {
   "cell_type": "markdown",
   "id": "105d55d9",
   "metadata": {},
   "source": [
    "# Premier élément de symétrie\n",
    "Le premier élément de symétrie que j'ai choisi est un plan mirroir $m$. Il s'agit du plan $(a,b)$ qui est perpendiculaire à $c$.\n",
    "\n",
    "La matrice qui représente cette opération de symétrie est la suivante : $$\\left({\\begin{array}{cc}\n",
    "    1 & 0 & 0 \\\\\n",
    "    0 & 1 & 0 \\\\\n",
    "    0 & 0 & -1 \\\\\n",
    "  \\end{array} }\\right)$$\n",
    "  \n",
    "  Cet élément de symétrie va être appliqué à l'atome Cs dont les coordonnées réduites sont : $(0 , 0.5, 0.5)$"
   ]
  },
  {
   "cell_type": "code",
   "execution_count": 110,
   "id": "350f09ee",
   "metadata": {},
   "outputs": [
    {
     "name": "stdout",
     "output_type": "stream",
     "text": [
      "Rot:\n",
      "[[ 1.  0.  0.]\n",
      " [ 0.  1.  0.]\n",
      " [ 0.  0. -1.]]\n",
      "tau\n",
      "[0. 0. 0.]\n",
      "\n",
      "Coordonnées réduites avant l'opération de symétrie :  [0.  0.5 0.5]\n",
      "Coordonnées réduites après l'opération de symétrie : [ 0.   0.5 -0.5]\n"
     ]
    }
   ],
   "source": [
    "op1 = sym_op[5]\n",
    "print(op1)\n",
    "cs1 = sites[1]\n",
    "\n",
    "print('')\n",
    "print(\"Coordonnées réduites avant l'opération de symétrie : \", cs1.frac_coords)\n",
    "# application de l'opérateur de symétrie\n",
    "cs1_afterop = op1.operate(cs1.frac_coords)\n",
    "print(\"Coordonnées réduites après l'opération de symétrie :\", cs1_afterop)"
   ]
  },
  {
   "cell_type": "code",
   "execution_count": 111,
   "id": "c1277ce8",
   "metadata": {},
   "outputs": [
    {
     "data": {
      "application/vnd.jupyter.widget-view+json": {
       "model_id": "a19203ee0ba34298b7de3c3f0b8777f8",
       "version_major": 2,
       "version_minor": 0
      },
      "text/plain": [
       "JsmolView(layout=Layout(align_self='stretch', height='400px'))"
      ]
     },
     "metadata": {},
     "output_type": "display_data"
    }
   ],
   "source": [
    "# représentation 3D graphique de l'opération\n",
    "view = quick_view(struct_conv,supercell=[1,1,1])\n",
    "display(view)\n",
    "view.script('draw symop 6 {atomno = 2}; select atomno=2; label on; color red')"
   ]
  },
  {
   "cell_type": "markdown",
   "id": "fb2b83ab",
   "metadata": {},
   "source": [
    "# Deuxième élément de symétrie\n",
    "Le deuxième élément de symétrie que j'ai choisi est une rotation hélicoïdale $2_1$ dans la direction $<1 \\bar{1} 0>$. \n",
    "\n",
    "La matrice qui représente la rotation de cet opération de symétrie est la suivante : $$\\left({\\begin{array}{cc}\n",
    "    0 & -1 & 0 \\\\\n",
    "    -1 & 0 & 0 \\\\\n",
    "    0 & 0 & -1 \\\\\n",
    "  \\end{array} }\\right)$$ à laquelle on ajoute une translation $(0.5, 0.5, 0)$\n",
    "  \n",
    "  Cet élément de symétrie va être appliqué à l'atome de potassium dont les coordonnées réduites sont : $(0.75 , 0.25, 0.25)$"
   ]
  },
  {
   "cell_type": "code",
   "execution_count": 112,
   "id": "37986032",
   "metadata": {},
   "outputs": [
    {
     "name": "stdout",
     "output_type": "stream",
     "text": [
      "Rot:\n",
      "[[ 0. -1.  0.]\n",
      " [-1.  0.  0.]\n",
      " [ 0.  0. -1.]]\n",
      "tau\n",
      "[0.5 0.5 0. ]\n",
      "\n",
      "Coordonnées réduites avant l'opération de symétrie :  [0.75 0.25 0.25]\n",
      "Coordonnées réduites après l'opération de symétrie : [ 0.25 -0.25 -0.25]\n"
     ]
    }
   ],
   "source": [
    "op2 = sym_op[58]\n",
    "print(op2)\n",
    "k2 = sites[8]\n",
    "\n",
    "print('')\n",
    "print(\"Coordonnées réduites avant l'opération de symétrie : \", k2.frac_coords)\n",
    "# application de l'opérateur de symétrie\n",
    "k2_afterop = op2.operate(k2.frac_coords)\n",
    "print(\"Coordonnées réduites après l'opération de symétrie :\", k2_afterop)"
   ]
  },
  {
   "cell_type": "code",
   "execution_count": 113,
   "id": "85813e0d",
   "metadata": {},
   "outputs": [
    {
     "data": {
      "application/vnd.jupyter.widget-view+json": {
       "model_id": "92689ec4167d4b389274dc31f88f932b",
       "version_major": 2,
       "version_minor": 0
      },
      "text/plain": [
       "JsmolView(layout=Layout(align_self='stretch', height='400px'))"
      ]
     },
     "metadata": {},
     "output_type": "display_data"
    }
   ],
   "source": [
    "# représentation 3D graphique de l'opération\n",
    "view = quick_view(struct_conv,supercell=[1,1,1])\n",
    "display(view)\n",
    "view.script('draw symop 59 {atomno = 2}; select atomno=2; label on; color red')"
   ]
  },
  {
   "cell_type": "markdown",
   "id": "0863a348",
   "metadata": {},
   "source": [
    "# Troisième élément de symétrie\n",
    "Le troisième et dernier élément de symétrie que j'ai choisi est une rotation d'ordre 3. \n",
    "\n",
    "La matrice qui représente la rotation de cet opération de symétrie est la suivante : $$\\left({\\begin{array}{cc}\n",
    "    0 & 0 & 1 \\\\\n",
    "    1 & 0 & 0 \\\\\n",
    "    0 & 1 & 0 \\\\\n",
    "  \\end{array} }\\right)$$\n",
    "  \n",
    "  Cet élément de symétrie va être appliqué à l'atome Bi dont les coordonnées réduites sont : $(0.5 , 0, 0)$"
   ]
  },
  {
   "cell_type": "code",
   "execution_count": 114,
   "id": "15cb3dd5",
   "metadata": {},
   "outputs": [
    {
     "name": "stdout",
     "output_type": "stream",
     "text": [
      "Rot:\n",
      "[[0. 0. 1.]\n",
      " [1. 0. 0.]\n",
      " [0. 1. 0.]]\n",
      "tau\n",
      "[0. 0. 0.]\n",
      "\n",
      "Coordonnées réduites avant l'opération de symétrie :  [0.5 0.  0. ]\n",
      "Coordonnées réduites après l'opération de symétrie : [0.  0.5 0. ]\n"
     ]
    }
   ],
   "source": [
    "op3 = sym_op[16]\n",
    "print(op3)\n",
    "bi3 = sites[12]\n",
    "\n",
    "print('')\n",
    "print(\"Coordonnées réduites avant l'opération de symétrie : \", bi3.frac_coords)\n",
    "# application de l'opérateur de symétrie\n",
    "bi3_afterop = op3.operate(bi3.frac_coords)\n",
    "print(\"Coordonnées réduites après l'opération de symétrie :\", bi3_afterop)"
   ]
  },
  {
   "cell_type": "code",
   "execution_count": 115,
   "id": "a8d16fc4",
   "metadata": {},
   "outputs": [
    {
     "data": {
      "application/vnd.jupyter.widget-view+json": {
       "model_id": "61568252b1ae4fba8987cc603950c0e8",
       "version_major": 2,
       "version_minor": 0
      },
      "text/plain": [
       "JsmolView(layout=Layout(align_self='stretch', height='400px'))"
      ]
     },
     "metadata": {},
     "output_type": "display_data"
    }
   ],
   "source": [
    "# représentation 3D graphique de l'opération\n",
    "view = quick_view(struct_conv,supercell=[1,1,1])\n",
    "display(view)\n",
    "view.script('draw symop 17 {atomno = 2}; select atomno=2; label on; color red')"
   ]
  },
  {
   "cell_type": "code",
   "execution_count": null,
   "id": "4ec1b7f4",
   "metadata": {},
   "outputs": [],
   "source": []
  }
 ],
 "metadata": {
  "kernelspec": {
   "display_name": "Python 3 (ipykernel)",
   "language": "python",
   "name": "python3"
  },
  "language_info": {
   "codemirror_mode": {
    "name": "ipython",
    "version": 3
   },
   "file_extension": ".py",
   "mimetype": "text/x-python",
   "name": "python",
   "nbconvert_exporter": "python",
   "pygments_lexer": "ipython3",
   "version": "3.9.6"
  }
 },
 "nbformat": 4,
 "nbformat_minor": 5
}
