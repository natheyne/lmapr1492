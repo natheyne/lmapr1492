{
 "cells": [
  {
   "cell_type": "code",
   "execution_count": 14,
   "id": "784ebf9a",
   "metadata": {},
   "outputs": [],
   "source": [
    "from pymatgen.ext.matproj import MPRester\n",
    "from pymatgen.symmetry.analyzer import SpacegroupAnalyzer\n",
    "with MPRester(\"8dT4ZwJiqOtEkr83gIsD\") as m:\n",
    "\n",
    "    # Structure for material id\n",
    "    structure = m.get_structure_by_material_id(\"mp-867339\")"
   ]
  },
  {
   "cell_type": "code",
   "execution_count": 15,
   "id": "d2779b7b",
   "metadata": {},
   "outputs": [
    {
     "name": "stdout",
     "output_type": "stream",
     "text": [
      "Vecteurs de bases du réseau direct :\n",
      "a =  [0.       4.459468 4.459468]\n",
      "b =  [4.459468 0.       4.459468]\n",
      "c =  [4.459468 4.459468 0.      ]\n",
      "\n",
      "Vecteurs de bases du réseau réciproque :\n",
      "a* =  [-0.704477  0.704477  0.704477]\n",
      "b* =  [ 0.704477 -0.704477  0.704477]\n",
      "c* =  [ 0.704477  0.704477 -0.704477]\n",
      "\n",
      "Type de maille : cubic\n",
      "\n",
      "Système cristallin : cubic\n",
      "\n",
      "Groupe ponctuel : m-3m\n"
     ]
    }
   ],
   "source": [
    "# Vecteurs de bases du réseau direct\n",
    "vec = structure.lattice\n",
    "mat_direct = vec.matrix\n",
    "\n",
    "print(\"Vecteurs de bases du réseau direct :\")\n",
    "print(\"a = \", mat_direct[0])\n",
    "print(\"b = \", mat_direct[1])\n",
    "print(\"c = \", mat_direct[2])\n",
    "print(\"\")\n",
    "\n",
    "\n",
    "# Vecteurs de bases du réseau réciproque\n",
    "vec_r = structure.lattice.reciprocal_lattice\n",
    "mat_r = vec_r.matrix\n",
    "\n",
    "print(\"Vecteurs de bases du réseau réciproque :\")\n",
    "print(\"a* = \", mat_r[0])\n",
    "print(\"b* = \", mat_r[1])\n",
    "print(\"c* = \", mat_r[2])\n",
    "print(\"\")\n",
    "\n",
    "# Type de maille\n",
    "type_maille = SpacegroupAnalyzer(structure).get_lattice_type()\n",
    "print(\"Type de maille :\", type_maille)\n",
    "print(\"\")\n",
    "\n",
    "# Système cristallin\n",
    "syst_cristal = SpacegroupAnalyzer(structure).get_crystal_system() \n",
    "print(\"Système cristallin :\", syst_cristal)\n",
    "print(\"\")\n",
    "\n",
    "# Groupe ponctuel \n",
    "group_ponctuel = SpacegroupAnalyzer(structure).get_point_group_symbol()\n",
    "print(\"Groupe ponctuel :\", group_ponctuel)"
   ]
  },
  {
   "cell_type": "code",
   "execution_count": null,
   "id": "c3ae6dfc",
   "metadata": {},
   "outputs": [],
   "source": []
  }
 ],
 "metadata": {
  "kernelspec": {
   "display_name": "Python 3 (ipykernel)",
   "language": "python",
   "name": "python3"
  },
  "language_info": {
   "codemirror_mode": {
    "name": "ipython",
    "version": 3
   },
   "file_extension": ".py",
   "mimetype": "text/x-python",
   "name": "python",
   "nbconvert_exporter": "python",
   "pygments_lexer": "ipython3",
   "version": "3.9.6"
  }
 },
 "nbformat": 4,
 "nbformat_minor": 5
}
